{
 "cells": [
  {
   "cell_type": "markdown",
   "metadata": {},
   "source": [
    "# Datacamp Chapters & Exercises Text Crawler\n",
    "This cralwer scrapes the information of course.\n",
    "- URL\n",
    "- The title of course\n",
    "- Instructor\n",
    "- Curriculum(chapter, exercises) "
   ]
  },
  {
   "cell_type": "code",
   "execution_count": 20,
   "metadata": {},
   "outputs": [],
   "source": [
    "from urllib.request import urlopen\n",
    "from bs4 import BeautifulSoup\n",
    "import re"
   ]
  },
  {
   "cell_type": "code",
   "execution_count": 21,
   "metadata": {},
   "outputs": [],
   "source": [
    "def get_datacamp(url):\n",
    "  '''This function scraps the chapters and the exercises.'''\n",
    "  \n",
    "  html = urlopen(url)\n",
    "  soup = BeautifulSoup(html.read(), \"html.parser\")\n",
    "  \n",
    "  # title crawling\n",
    "  title = soup.find('h1', {'class' : 'header-hero__title'}).get_text().strip()\n",
    "  \n",
    "  # instructor crawling\n",
    "  instructor = soup.find('h5', {'class', 'course__instructor-name'}).get_text().strip()\n",
    "  \n",
    "  # the job of instructor\n",
    "  job = soup.find('p', {'class':'course__instructor-occupation'}).get_text().strip()\n",
    "  \n",
    "  # crawling the chapters, exercises \n",
    "  chapters = soup.findAll('li', {'class':'chapter'})\n",
    "  \n",
    "  chapters_text = []\n",
    "  exercises_text = []\n",
    "\n",
    "  for chapter in chapters:\n",
    "    # crawling the title of each chapter\n",
    "    chapter_text = chapter.find('h4', {'class':'chapter__title'}).get_text().strip()\n",
    "    chapters_text.append(chapter_text)\n",
    "    e = []\n",
    "    # crawling the exercises of each chapter\n",
    "    for c in chapter.find_all('h5',{'class','chapter__exercise-title'}):\n",
    "      e.append(c.get_text())\n",
    "    exercises_text.append(e)\n",
    "    \n",
    "    # print the chapters and exercises\n",
    "  print('# [DataCamp] ' + title + '\\n')\n",
    "  print('- Instructor : ' + instructor + ', ' + job)\n",
    "  print('- Progress : ')\n",
    "  print('- [Course](' + url + ')\\n')\n",
    "  print('## Curriculum')\n",
    "  for i in range(len(chapters)):\n",
    "    print(str(i + 1) + \". \" + chapters_text[i])\n",
    "    for t in range(len(exercises_text[i])):\n",
    "      print(\"    - \" + exercises_text[i][t])"
   ]
  },
  {
   "cell_type": "code",
   "execution_count": 22,
   "metadata": {},
   "outputs": [
    {
     "name": "stdout",
     "output_type": "stream",
     "text": [
      "# [DataCamp] Intermediate SQL Server\n",
      "\n",
      "- Instructor : Ginger Grant, Principal Consultant, Desert Isle Group\n",
      "- Progress : \n",
      "- [Course](https://www.datacamp.com/courses/intermediate-t-sql)\n",
      "\n",
      "## Curriculum\n",
      "1. Summarizing Data\n",
      "    - Data analysis with aggregations\n",
      "    - Creating aggregations\n",
      "    - Creating grouped aggregations\n",
      "    - Dealing with missing data\n",
      "    - Removing missing values\n",
      "    - Imputing missing values (I)\n",
      "    - Imputing missing values (II)\n",
      "    - Binning data with CASE\n",
      "    - Using CASE statements\n",
      "    - Creating several groups with CASE\n",
      "2. Math Functions\n",
      "    - Counting and totals\n",
      "    - Calculating the total\n",
      "    - Counting the number of rows\n",
      "    - Dates\n",
      "    - Which date function should you use?\n",
      "    - Counting the number of days between dates\n",
      "    - Adding days to a date\n",
      "    - Rounding and truncating\n",
      "    - Rounding numbers\n",
      "    - Truncating numbers\n",
      "    - More math functions\n",
      "    - Calculating the absolute value\n",
      "    - Calculating squares and square roots\n",
      "3. Processing Data in SQL Server\n",
      "    - WHILE loops\n",
      "    - Creating and using variables\n",
      "    - Creating a WHILE loop\n",
      "    - Derived tables\n",
      "    - Queries with derived tables (I)\n",
      "    - Queries with derived tables (II)\n",
      "    - Common Table Expressions\n",
      "    - CTE syntax\n",
      "    - Creating CTEs (I)\n",
      "    - Creating CTEs (II)\n",
      "4. Window Functions\n",
      "    - Window functions in T-SQL\n",
      "    - Window functions with aggregations (I)\n",
      "    - Window functions with aggregations (II)\n",
      "    - Common window functions\n",
      "    - Do you know window functions?\n",
      "    - First value in a window\n",
      "    - Previous and next values\n",
      "    - Increasing window complexity\n",
      "    - Creating running totals\n",
      "    - Assigning row numbers\n",
      "    - Using windows for statistical functions\n",
      "    - Calculating standard deviation\n",
      "    - Calculating mode (I)\n",
      "    - Calculating mode (II)\n"
     ]
    }
   ],
   "source": [
    "# Use UDF\n",
    "\n",
    "get_datacamp(\"https://www.datacamp.com/courses/intermediate-t-sql\")"
   ]
  },
  {
   "cell_type": "code",
   "execution_count": null,
   "metadata": {},
   "outputs": [],
   "source": []
  }
 ],
 "metadata": {
  "kernelspec": {
   "display_name": "Python 3",
   "language": "python",
   "name": "python3"
  },
  "language_info": {
   "codemirror_mode": {
    "name": "ipython",
    "version": 3
   },
   "file_extension": ".py",
   "mimetype": "text/x-python",
   "name": "python",
   "nbconvert_exporter": "python",
   "pygments_lexer": "ipython3",
   "version": "3.5.6"
  }
 },
 "nbformat": 4,
 "nbformat_minor": 2
}
